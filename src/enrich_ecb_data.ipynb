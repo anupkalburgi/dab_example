{
 "cells": [
  {
   "cell_type": "code",
   "execution_count": null,
   "metadata": {},
   "outputs": [],
   "source": [
    "from databricks.connect import DatabricksSession\n",
    "from pyspark.sql import SparkSession, DataFrame\n",
    "from pyspark.sql.functions import col, current_date\n",
    "from ecb_enrich import enrich_with_usd\n",
    "from datetime import datetime "
   ]
  },
  {
   "cell_type": "code",
   "execution_count": null,
   "metadata": {},
   "outputs": [],
   "source": [
    "dbutils.widgets.text(\"catalog_name\", \"anup_kalburgi\", \"Target Catalog\")\n",
    "dbutils.widgets.text(\"schema_name\", \"dab_dev\", \"Target Schema\")\n",
    "dbutils.widgets.text(\"date\", datetime.now().strftime(\"%Y-%m-%d\"), \"Date (YYYY-MM-DD)\")"
   ]
  },
  {
   "cell_type": "code",
   "execution_count": null,
   "metadata": {},
   "outputs": [],
   "source": [
    "catalog = dbutils.widgets.get(\"catalog_name\")\n",
    "schema = dbutils.widgets.get(\"schema_name\")\n",
    "date_param = dbutils.widgets.get(\"date\")"
   ]
  },
  {
   "cell_type": "code",
   "execution_count": null,
   "metadata": {},
   "outputs": [],
   "source": [
    "src_table_name = f\"{catalog}.{schema}.fx_rates_ecb_eur_base\"\n",
    "dest_table_name = f\"{catalog}.{schema}.fx_rates_ecb_eur_base_usd_enriched\""
   ]
  },
  {
   "cell_type": "code",
   "execution_count": null,
   "metadata": {},
   "outputs": [],
   "source": [
    "print(f\"Using catalog: {catalog}\")\n",
    "print(f\"Using schema: {schema}\")\n",
    "print(f\"Using date: {date_param}\")"
   ]
  },
  {
   "cell_type": "code",
   "execution_count": null,
   "metadata": {},
   "outputs": [],
   "source": [
    "def get_spark() -> SparkSession:\n",
    "    if spark is not None:\n",
    "        return spark\n",
    "    else:\n",
    "        try:\n",
    "            return DatabricksSession.builder.serverless().getOrCreate()\n",
    "        except ImportError:\n",
    "            return SparkSession.builder.getOrCreate()"
   ]
  },
  {
   "cell_type": "code",
   "execution_count": null,
   "metadata": {},
   "outputs": [],
   "source": [
    "spark = get_spark()\n",
    "df = spark.read.table(src_table_name)\n",
    "\n",
    "# Filter by date if provided, otherwise use all data\n",
    "if date_param and date_param.strip():\n",
    "    df = df.filter(col(\"TIME_PERIOD\") == date_param)\n",
    "    print(f\"Filtered data for date: {date_param}\")\n",
    "else:\n",
    "    print(\"Using all available data (no date filter)\")"
   ]
  },
  {
   "cell_type": "code",
   "execution_count": null,
   "metadata": {},
   "outputs": [],
   "source": [
    "df = enrich_with_usd(df, date_param)\n",
    "\n",
    "# Write to destination table\n",
    "df.write.mode(\"append\").option(\"mergeSchema\", \"true\").saveAsTable(dest_table_name)\n",
    "print(f\"Successfully enriched and saved data to: {dest_table_name}\") "
   ]
  }
 ],
 "metadata": {
  "kernelspec": {
   "display_name": ".venv",
   "language": "python",
   "name": "python3"
  },
  "language_info": {
   "name": "python",
   "version": "3.11.13"
  }
 },
 "nbformat": 4,
 "nbformat_minor": 4
}
