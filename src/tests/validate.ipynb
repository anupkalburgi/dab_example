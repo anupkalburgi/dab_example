{
 "cells": [
  {
   "cell_type": "code",
   "execution_count": null,
   "id": "fb9604ed",
   "metadata": {},
   "outputs": [],
   "source": [
    "from datetime import datetime\n",
    "from databricks.connect import DatabricksSession\n",
    "from pyspark.sql import SparkSession, DataFrame\n",
    "from pyspark.sql.functions import col, current_date\n",
    "from datetime import datetime "
   ]
  },
  {
   "cell_type": "code",
   "execution_count": null,
   "id": "a83dc074",
   "metadata": {},
   "outputs": [],
   "source": [
    "dbutils.widgets.text(\"catalog_name\", \"anup_kalburgi\", \"Target Catalog\")\n",
    "dbutils.widgets.text(\"schema_name\", \"dab_dev\", \"Target Schema\")\n",
    "dbutils.widgets.text(\"date\", datetime.now().strftime(\"%Y-%m-%d\"), \"Date (YYYY-MM-DD)\")\n",
    "catalog = dbutils.widgets.get(\"catalog_name\")\n",
    "schema = dbutils.widgets.get(\"schema_name\")\n",
    "date_param = dbutils.widgets.get(\"date\")"
   ]
  },
  {
   "cell_type": "code",
   "execution_count": null,
   "id": "b920c36f",
   "metadata": {},
   "outputs": [],
   "source": [
    "table_under_test = f\"{catalog}.{schema}.fx_rates_ecb_eur_base_usd_enriched\""
   ]
  },
  {
   "cell_type": "code",
   "execution_count": null,
   "id": "7236e9d7",
   "metadata": {},
   "outputs": [],
   "source": [
    "table_under_test"
   ]
  },
  {
   "cell_type": "code",
   "execution_count": null,
   "id": "a0362813",
   "metadata": {},
   "outputs": [],
   "source": [
    "def get_spark() -> SparkSession:\n",
    "    try:\n",
    "        return DatabricksSession.builder.serverless().getOrCreate()\n",
    "    except ImportError:\n",
    "        return SparkSession.builder.getOrCreate()"
   ]
  },
  {
   "cell_type": "code",
   "execution_count": null,
   "id": "91ae3322",
   "metadata": {},
   "outputs": [],
   "source": [
    "df = spark.read.table(table_under_test)\n",
    "record_size = df.count()"
   ]
  },
  {
   "cell_type": "code",
   "execution_count": null,
   "id": "5c649848",
   "metadata": {},
   "outputs": [],
   "source": [
    "assert record_size == 5000, \"Expected 5000 records, got \" + str(df.count())"
   ]
  },
  {
   "cell_type": "code",
   "execution_count": null,
   "id": "c487abfd",
   "metadata": {},
   "outputs": [],
   "source": [
    "dbutils.notebook.exit(record_size == 5000)"
   ]
  }
 ],
 "metadata": {
  "language_info": {
   "name": "python"
  }
 },
 "nbformat": 4,
 "nbformat_minor": 5
}
