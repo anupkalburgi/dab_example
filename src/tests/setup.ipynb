{
 "cells": [
  {
   "cell_type": "code",
   "execution_count": null,
   "id": "3bfb1e19",
   "metadata": {},
   "outputs": [],
   "source": [
    "!pip install /Volumes/anup_kalburgi/datagen/build_files/datagen_ext-0.0.22-py3-none-any.whl --force-reinstall\n",
    "dbutils.library.restartPython()"
   ]
  },
  {
   "cell_type": "code",
   "execution_count": null,
   "id": "43f79f9d",
   "metadata": {},
   "outputs": [],
   "source": [
    "from datetime import datetime"
   ]
  },
  {
   "cell_type": "code",
   "execution_count": null,
   "id": "89796e42",
   "metadata": {},
   "outputs": [],
   "source": [
    "dbutils.widgets.text(\"catalog_name\", \"anup_kalburgi\", \"Target Catalog\")\n",
    "dbutils.widgets.text(\"schema_name\", \"dab_dev\", \"Target Schema\")\n",
    "dbutils.widgets.text(\"date\", datetime.now().strftime(\"%Y-%m-%d\"), \"Date (YYYY-MM-DD)\")\n",
    "catalog = dbutils.widgets.get(\"catalog_name\")\n",
    "schema = dbutils.widgets.get(\"schema_name\")\n",
    "date_param = dbutils.widgets.get(\"date\")"
   ]
  },
  {
   "cell_type": "code",
   "execution_count": null,
   "id": "11371698",
   "metadata": {},
   "outputs": [],
   "source": []
  },
  {
   "cell_type": "code",
   "execution_count": null,
   "id": "f1135302",
   "metadata": {},
   "outputs": [],
   "source": [
    "import json\n",
    "import random\n",
    "from pyspark.sql import SparkSession\n",
    "from pyspark.sql.types import StructType, StructField, StringType, DoubleType, TimestampType\n",
    "from datetime import datetime\n",
    "from datagen_ext.models import DatagenSpec, UCSchemaTarget\n",
    "from datagen_ext.generator import Generator\n",
    "\n",
    "config_file_path = \"ecb_data.json\"\n",
    "config = DatagenSpec.parse_file(config_file_path)"
   ]
  },
  {
   "cell_type": "code",
   "execution_count": null,
   "id": "1e792ad9",
   "metadata": {},
   "outputs": [],
   "source": [
    "ust = UCSchemaTarget(\n",
    "  catalog=catalog\n",
    "  , schema_=schema\n",
    ")\n",
    "config.output_destination = ust"
   ]
  },
  {
   "cell_type": "code",
   "execution_count": null,
   "id": "347710f3",
   "metadata": {},
   "outputs": [],
   "source": [
    "config.display_all_tables()"
   ]
  },
  {
   "cell_type": "code",
   "execution_count": null,
   "id": "fe881cbe",
   "metadata": {},
   "outputs": [],
   "source": [
    "generator = Generator(spark=spark)\n",
    "df = generator.generate_and_write_data(config)"
   ]
  }
 ],
 "metadata": {
  "language_info": {
   "name": "python"
  }
 },
 "nbformat": 4,
 "nbformat_minor": 5
}
